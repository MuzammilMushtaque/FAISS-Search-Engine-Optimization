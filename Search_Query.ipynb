{
 "cells": [
  {
   "cell_type": "markdown",
   "id": "00e4bc70-43d6-42ba-a652-5ffd27583c16",
   "metadata": {},
   "source": [
    "# Optimize Search Query"
   ]
  },
  {
   "cell_type": "code",
   "execution_count": 14,
   "id": "169ab3da-bf3c-4a87-b882-636bc4e95c40",
   "metadata": {},
   "outputs": [],
   "source": [
    "# pip install sentence-transformers"
   ]
  },
  {
   "cell_type": "markdown",
   "id": "0c810995-c812-4392-83a8-97893b0cf381",
   "metadata": {},
   "source": [
    "### 1) Read Webscraped Data \n",
    "\n",
    "Convert the webscraped JSON data into panda dataframe"
   ]
  },
  {
   "cell_type": "code",
   "execution_count": 1,
   "id": "a96c5838-a121-470f-976d-9ec3548f2ecb",
   "metadata": {},
   "outputs": [],
   "source": [
    "import json\n",
    "import pandas as pd\n",
    "\n",
    "def load_json_file(filename):\n",
    "    try:\n",
    "        with open(filename, 'r',encoding='utf-8') as f:\n",
    "            data = json.load(f)\n",
    "            return data\n",
    "    except json.JSONDecodeError as e:\n",
    "        print(f\"Error reading {filename}: {e}\")\n",
    "        with open(filename, 'r',encoding='utf-8') as f:\n",
    "            data=[]\n",
    "            for line in f:\n",
    "                d = json.loads(line)\n",
    "                data.append(d)\n",
    "            return data\n",
    "data = load_json_file('Ecocheck_Data.json') \n",
    "df = pd.DataFrame(data)"
   ]
  },
  {
   "cell_type": "markdown",
   "id": "2ff810ed-642b-4493-9414-55e3cef13366",
   "metadata": {},
   "source": [
    "### 2) Considering Data having True Labels"
   ]
  },
  {
   "cell_type": "code",
   "execution_count": 2,
   "id": "084806eb-9dfb-4eec-8557-423aa25d2cfb",
   "metadata": {},
   "outputs": [],
   "source": [
    "true_df = df[df['labels'].apply(lambda x: len(x) > 0)]"
   ]
  },
  {
   "cell_type": "markdown",
   "id": "fb4060f2-998a-4aa4-b0c5-1f0d10d2e290",
   "metadata": {},
   "source": [
    "### 3) Cleaning the columns [price, organic_label, vegan_label]"
   ]
  },
  {
   "cell_type": "code",
   "execution_count": 3,
   "id": "d0dedf59-b9cd-4473-af72-905f5248241a",
   "metadata": {},
   "outputs": [
    {
     "name": "stderr",
     "output_type": "stream",
     "text": [
      "C:\\Users\\AK traders\\AppData\\Local\\Temp\\ipykernel_3024\\451410679.py:12: SettingWithCopyWarning: \n",
      "A value is trying to be set on a copy of a slice from a DataFrame.\n",
      "Try using .loc[row_indexer,col_indexer] = value instead\n",
      "\n",
      "See the caveats in the documentation: https://pandas.pydata.org/pandas-docs/stable/user_guide/indexing.html#returning-a-view-versus-a-copy\n",
      "  true_df.loc[:, 'organic_label'] = true_df['organic_label'].apply(process_labels)\n",
      "C:\\Users\\AK traders\\AppData\\Local\\Temp\\ipykernel_3024\\451410679.py:13: SettingWithCopyWarning: \n",
      "A value is trying to be set on a copy of a slice from a DataFrame.\n",
      "Try using .loc[row_indexer,col_indexer] = value instead\n",
      "\n",
      "See the caveats in the documentation: https://pandas.pydata.org/pandas-docs/stable/user_guide/indexing.html#returning-a-view-versus-a-copy\n",
      "  true_df.loc[:, 'vegan_label'] = true_df['vegan_label'].apply(process_labels)\n",
      "C:\\Users\\AK traders\\AppData\\Local\\Temp\\ipykernel_3024\\451410679.py:16: SettingWithCopyWarning: \n",
      "A value is trying to be set on a copy of a slice from a DataFrame.\n",
      "Try using .loc[row_indexer,col_indexer] = value instead\n",
      "\n",
      "See the caveats in the documentation: https://pandas.pydata.org/pandas-docs/stable/user_guide/indexing.html#returning-a-view-versus-a-copy\n",
      "  true_df.loc[:, 'organic_label'] = true_df['organic_label'].apply(lambda x: 1 if 'Bio' in x else 0)\n",
      "C:\\Users\\AK traders\\AppData\\Local\\Temp\\ipykernel_3024\\451410679.py:16: DeprecationWarning: In a future version, `df.iloc[:, i] = newvals` will attempt to set the values inplace instead of always setting a new array. To retain the old behavior, use either `df[df.columns[i]] = newvals` or, if columns are non-unique, `df.isetitem(i, newvals)`\n",
      "  true_df.loc[:, 'organic_label'] = true_df['organic_label'].apply(lambda x: 1 if 'Bio' in x else 0)\n",
      "C:\\Users\\AK traders\\AppData\\Local\\Temp\\ipykernel_3024\\451410679.py:17: SettingWithCopyWarning: \n",
      "A value is trying to be set on a copy of a slice from a DataFrame.\n",
      "Try using .loc[row_indexer,col_indexer] = value instead\n",
      "\n",
      "See the caveats in the documentation: https://pandas.pydata.org/pandas-docs/stable/user_guide/indexing.html#returning-a-view-versus-a-copy\n",
      "  true_df.loc[:, 'vegan_label'] = true_df['vegan_label'].apply(lambda x: 1 if 'Vegan' in x else 0)\n",
      "C:\\Users\\AK traders\\AppData\\Local\\Temp\\ipykernel_3024\\451410679.py:17: DeprecationWarning: In a future version, `df.iloc[:, i] = newvals` will attempt to set the values inplace instead of always setting a new array. To retain the old behavior, use either `df[df.columns[i]] = newvals` or, if columns are non-unique, `df.isetitem(i, newvals)`\n",
      "  true_df.loc[:, 'vegan_label'] = true_df['vegan_label'].apply(lambda x: 1 if 'Vegan' in x else 0)\n",
      "C:\\Users\\AK traders\\AppData\\Local\\Temp\\ipykernel_3024\\451410679.py:22: SettingWithCopyWarning: \n",
      "A value is trying to be set on a copy of a slice from a DataFrame.\n",
      "Try using .loc[row_indexer,col_indexer] = value instead\n",
      "\n",
      "See the caveats in the documentation: https://pandas.pydata.org/pandas-docs/stable/user_guide/indexing.html#returning-a-view-versus-a-copy\n",
      "  true_df.loc[:,'price'] = true_df['price'].str.replace('[^\\d.]', '', regex=True)  # Remove non-numeric characters except '.'\n",
      "C:\\Users\\AK traders\\AppData\\Local\\Temp\\ipykernel_3024\\451410679.py:23: SettingWithCopyWarning: \n",
      "A value is trying to be set on a copy of a slice from a DataFrame.\n",
      "Try using .loc[row_indexer,col_indexer] = value instead\n",
      "\n",
      "See the caveats in the documentation: https://pandas.pydata.org/pandas-docs/stable/user_guide/indexing.html#returning-a-view-versus-a-copy\n",
      "  true_df.loc[:,'price'] = pd.to_numeric(true_df['price'], errors='coerce')  # Convert to numeric, coerce errors to NaN\n",
      "C:\\Users\\AK traders\\AppData\\Local\\Temp\\ipykernel_3024\\451410679.py:23: DeprecationWarning: In a future version, `df.iloc[:, i] = newvals` will attempt to set the values inplace instead of always setting a new array. To retain the old behavior, use either `df[df.columns[i]] = newvals` or, if columns are non-unique, `df.isetitem(i, newvals)`\n",
      "  true_df.loc[:,'price'] = pd.to_numeric(true_df['price'], errors='coerce')  # Convert to numeric, coerce errors to NaN\n"
     ]
    }
   ],
   "source": [
    "'''                          Convert the categorical data into numeric of columns organic_label & vegan_label\n",
    "'''\n",
    "# Function to handle different data types and convert lists to strings\n",
    "def process_labels(label):\n",
    "    if isinstance(label, list) and label:\n",
    "        return ' '.join(label)\n",
    "    elif isinstance(label, str):\n",
    "        return label.strip()  # Strip any leading/trailing whitespace\n",
    "    return 'none'  # Return 'none' if label is None or empty list\n",
    "\n",
    "# Apply the function to the relevant columns using .loc to avoid SettingWithCopyWarning\n",
    "true_df.loc[:, 'organic_label'] = true_df['organic_label'].apply(process_labels)\n",
    "true_df.loc[:, 'vegan_label'] = true_df['vegan_label'].apply(process_labels)\n",
    "\n",
    "# Ensure 'Bio' and 'Vegan' come first by creating custom sort keys\n",
    "true_df.loc[:, 'organic_label'] = true_df['organic_label'].apply(lambda x: 1 if 'Bio' in x else 0)\n",
    "true_df.loc[:, 'vegan_label'] = true_df['vegan_label'].apply(lambda x: 1 if 'Vegan' in x else 0)\n",
    "\n",
    "'''                             Convert the string data into numeric of column price\n",
    "'''\n",
    "\n",
    "true_df.loc[:,'price'] = true_df['price'].str.replace('[^\\d.]', '', regex=True)  # Remove non-numeric characters except '.'\n",
    "true_df.loc[:,'price'] = pd.to_numeric(true_df['price'], errors='coerce')  # Convert to numeric, coerce errors to NaN"
   ]
  },
  {
   "cell_type": "markdown",
   "id": "00db766e-6c36-4e9d-8384-b6ac95a0d83a",
   "metadata": {},
   "source": [
    "### 4) Assembling input columns into new column\n",
    "\n",
    "columns_to_combine = ['allergen', 'brandsText', 'categories', 'ingredientsText', 'labels', 'name', 'description']"
   ]
  },
  {
   "cell_type": "code",
   "execution_count": 4,
   "id": "111cf72d-80e5-4052-b4f4-f0481cbc6c64",
   "metadata": {},
   "outputs": [
    {
     "name": "stderr",
     "output_type": "stream",
     "text": [
      "C:\\Users\\AK traders\\AppData\\Local\\Temp\\ipykernel_3024\\558376629.py:12: SettingWithCopyWarning: \n",
      "A value is trying to be set on a copy of a slice from a DataFrame.\n",
      "Try using .loc[row_indexer,col_indexer] = value instead\n",
      "\n",
      "See the caveats in the documentation: https://pandas.pydata.org/pandas-docs/stable/user_guide/indexing.html#returning-a-view-versus-a-copy\n",
      "  true_df.loc[:,'combined'] = true_df.apply(combine_columns, axis=1)\n"
     ]
    }
   ],
   "source": [
    "def combine_columns(row):\n",
    "    combined = ''\n",
    "    columns_to_combine = ['allergen', 'brandsText', 'categories', 'ingredientsText', 'labels', 'name', 'description']\n",
    "    for col in columns_to_combine:\n",
    "        value = row[col]\n",
    "        if isinstance(value, list):\n",
    "            combined += ' '.join(value) + ' '\n",
    "        else:\n",
    "            combined += str(value) + ' '\n",
    "    return combined.strip()  # Remove any trailing whitespace\n",
    "\n",
    "true_df.loc[:,'combined'] = true_df.apply(combine_columns, axis=1)\n"
   ]
  },
  {
   "cell_type": "markdown",
   "id": "928341c6-9fff-49a6-8479-a82a9bb7c947",
   "metadata": {},
   "source": [
    "### 5) Apply the text embedding"
   ]
  },
  {
   "cell_type": "code",
   "execution_count": 5,
   "id": "23d83c20-541b-4e12-814c-e2f78d814123",
   "metadata": {},
   "outputs": [
    {
     "ename": "ModuleNotFoundError",
     "evalue": "No module named 'sentence_transformers'",
     "output_type": "error",
     "traceback": [
      "\u001b[1;31m---------------------------------------------------------------------------\u001b[0m",
      "\u001b[1;31mModuleNotFoundError\u001b[0m                       Traceback (most recent call last)",
      "Cell \u001b[1;32mIn[5], line 1\u001b[0m\n\u001b[1;32m----> 1\u001b[0m \u001b[38;5;28;01mfrom\u001b[39;00m \u001b[38;5;21;01msentence_transformers\u001b[39;00m \u001b[38;5;28;01mimport\u001b[39;00m SentenceTransformer\n\u001b[0;32m      3\u001b[0m \u001b[38;5;66;03m# Load the multilingual model\u001b[39;00m\n\u001b[0;32m      4\u001b[0m model \u001b[38;5;241m=\u001b[39m SentenceTransformer(\u001b[38;5;124m'\u001b[39m\u001b[38;5;124msentence-transformers/distiluse-base-multilingual-cased-v1\u001b[39m\u001b[38;5;124m'\u001b[39m)\n",
      "\u001b[1;31mModuleNotFoundError\u001b[0m: No module named 'sentence_transformers'"
     ]
    }
   ],
   "source": [
    "from sentence_transformers import SentenceTransformer\n",
    "\n",
    "# Load the multilingual model\n",
    "model = SentenceTransformer('sentence-transformers/distiluse-base-multilingual-cased-v1')\n",
    "\n",
    "# Extract sentences from the 'combined' column\n",
    "sentences = true_df['combined'].tolist()\n",
    "\n",
    "# Generate embeddings\n",
    "embeddings = model.encode(sentences)\n",
    "\n",
    "# Check the shape of embeddings\n",
    "print(embeddings.shape)"
   ]
  },
  {
   "cell_type": "markdown",
   "id": "f280f4c1-f3b2-4b7d-b368-e6dca6aeec05",
   "metadata": {},
   "source": [
    "### 6) Indexing"
   ]
  },
  {
   "cell_type": "code",
   "execution_count": 21,
   "id": "6343db38-5b13-450d-95c5-34f6debca71d",
   "metadata": {},
   "outputs": [],
   "source": [
    "import faiss\n",
    "\n",
    "def indexing(embeddings, cell_num):\n",
    "    \n",
    "    d = embeddings.shape[1]\n",
    "    nlist = cell_num  # how many cells\n",
    "    quantizer = faiss.IndexFlatL2(d)\n",
    "    index = faiss.IndexIVFFlat(quantizer, d, nlist)\n",
    "\n",
    "    # trained Index\n",
    "    index.train(embeddings)\n",
    "\n",
    "    index.add(embeddings)\n",
    "    index.ntotal  # number of embeddings indexed\n",
    "    \n",
    "    return index\n",
    "\n",
    "index = indexing(embeddings, 100)"
   ]
  },
  {
   "cell_type": "code",
   "execution_count": 22,
   "id": "38eccf28-171e-4241-9e79-df681a8bcaf6",
   "metadata": {},
   "outputs": [
    {
     "data": {
      "text/plain": [
       "<faiss.swigfaiss_avx2.IndexIVFFlat; proxy of <Swig Object of type 'faiss::IndexIVFFlat *' at 0x7f5987d30480> >"
      ]
     },
     "execution_count": 22,
     "metadata": {},
     "output_type": "execute_result"
    }
   ],
   "source": [
    "index"
   ]
  },
  {
   "cell_type": "code",
   "execution_count": 75,
   "id": "15e573db-16a8-4ef9-9fdb-df32221d1683",
   "metadata": {},
   "outputs": [],
   "source": [
    "import time\n",
    "\n",
    "def SearchInputQuery(query, num_of_results, index, nprob, most_relevant_columns):\n",
    "    start_time = time.time()\n",
    "    \n",
    "    queryList = [query]\n",
    "    xq = model.encode(queryList)   \n",
    "    k = num_of_results #50 # 4\n",
    "    index.nprobe = nprob#5\n",
    "    D, I = index.search(xq, k)  # search\n",
    "    \n",
    "    # recommended list\n",
    "    recommended_products = true_df.iloc[I[0]]\n",
    "\n",
    "    sort_columns = most_relevant_columns\n",
    "    if len(sort_columns) > 0:\n",
    "        if 'organic_label' in sort_columns or 'vegan_label' in sort_columns:\n",
    "            sorted_df = recommended_products.sort_values(by=sort_columns, ascending=False)\n",
    "            result = sorted_df.head(5)\n",
    "        elif 'price' in sort_columns or 'emissionFromProducts' in sort_columns:\n",
    "            sorted_df = recommended_products.sort_values(by='price', ascending=True)\n",
    "            result = sorted_df.head(5)\n",
    "\n",
    "    else:\n",
    "        result = recommended_products.head(5)\n",
    "\n",
    "    end_time = time.time()  \n",
    "    execution_time = end_time - start_time  \n",
    "   # print(f\"Execution time: {execution_time*1e6} micro-seconds\")\n",
    "    return result, execution_time\n"
   ]
  },
  {
   "cell_type": "code",
   "execution_count": 45,
   "id": "d3f19514-14ff-444b-8a2c-e7f42809ff28",
   "metadata": {},
   "outputs": [
    {
     "name": "stdout",
     "output_type": "stream",
     "text": [
      "Execution time: 18.20969581604004 milli-seconds\n",
      "Search Query: chicken \n",
      "\n"
     ]
    },
    {
     "data": {
      "text/html": [
       "<div>\n",
       "<style scoped>\n",
       "    .dataframe tbody tr th:only-of-type {\n",
       "        vertical-align: middle;\n",
       "    }\n",
       "\n",
       "    .dataframe tbody tr th {\n",
       "        vertical-align: top;\n",
       "    }\n",
       "\n",
       "    .dataframe thead th {\n",
       "        text-align: right;\n",
       "    }\n",
       "</style>\n",
       "<table border=\"1\" class=\"dataframe\">\n",
       "  <thead>\n",
       "    <tr style=\"text-align: right;\">\n",
       "      <th></th>\n",
       "      <th>name</th>\n",
       "      <th>labels</th>\n",
       "    </tr>\n",
       "  </thead>\n",
       "  <tbody>\n",
       "    <tr>\n",
       "      <th>6301</th>\n",
       "      <td>Alnatura Bio Hühner Bouillon 6ST 66G</td>\n",
       "      <td>[Bio, Glutenfree, Palmoel]</td>\n",
       "    </tr>\n",
       "    <tr>\n",
       "      <th>3950</th>\n",
       "      <td>Geflügelsalat</td>\n",
       "      <td>[Bio]</td>\n",
       "    </tr>\n",
       "    <tr>\n",
       "      <th>6776</th>\n",
       "      <td>Little Lunch Bio Geflügel Knochen-Fond 400ML</td>\n",
       "      <td>[Bio]</td>\n",
       "    </tr>\n",
       "    <tr>\n",
       "      <th>3932</th>\n",
       "      <td>Hühner-Nudel-Topf</td>\n",
       "      <td>[Bio, Non-Vegetarian, Vegetarian]</td>\n",
       "    </tr>\n",
       "    <tr>\n",
       "      <th>11394</th>\n",
       "      <td>EDEKA Naturals Rind &amp; Huhn 125G</td>\n",
       "      <td>[Bio]</td>\n",
       "    </tr>\n",
       "  </tbody>\n",
       "</table>\n",
       "</div>"
      ],
      "text/plain": [
       "                                               name  \\\n",
       "6301           Alnatura Bio Hühner Bouillon 6ST 66G   \n",
       "3950                                  Geflügelsalat   \n",
       "6776   Little Lunch Bio Geflügel Knochen-Fond 400ML   \n",
       "3932                              Hühner-Nudel-Topf   \n",
       "11394               EDEKA Naturals Rind & Huhn 125G   \n",
       "\n",
       "                                  labels  \n",
       "6301          [Bio, Glutenfree, Palmoel]  \n",
       "3950                               [Bio]  \n",
       "6776                               [Bio]  \n",
       "3932   [Bio, Non-Vegetarian, Vegetarian]  \n",
       "11394                              [Bio]  "
      ]
     },
     "execution_count": 45,
     "metadata": {},
     "output_type": "execute_result"
    }
   ],
   "source": [
    "most_relevant_columns = ['organic_label', 'vegan_label']\n",
    "search_query = \"chicken\"\n",
    "\n",
    "Best_results, running_time = SearchInputQuery(search_query, 50, index, 5, most_relevant_columns)\n",
    "\n",
    "print(f\"Execution time: {running_time*1e3} milli-seconds\")\n",
    "print (f\"Search Query: {search_query} \\n\")\n",
    "Best_results[['name','labels']]\n"
   ]
  },
  {
   "cell_type": "code",
   "execution_count": 87,
   "id": "67d2856f-267e-4e88-8bda-3b2f997aeb08",
   "metadata": {},
   "outputs": [
    {
     "name": "stdout",
     "output_type": "stream",
     "text": [
      "Execution time: 26.424884796142578 milli-seconds\n",
      "Search Query: biyo süt \n",
      "\n"
     ]
    },
    {
     "data": {
      "text/html": [
       "<div>\n",
       "<style scoped>\n",
       "    .dataframe tbody tr th:only-of-type {\n",
       "        vertical-align: middle;\n",
       "    }\n",
       "\n",
       "    .dataframe tbody tr th {\n",
       "        vertical-align: top;\n",
       "    }\n",
       "\n",
       "    .dataframe thead th {\n",
       "        text-align: right;\n",
       "    }\n",
       "</style>\n",
       "<table border=\"1\" class=\"dataframe\">\n",
       "  <thead>\n",
       "    <tr style=\"text-align: right;\">\n",
       "      <th></th>\n",
       "      <th>name</th>\n",
       "      <th>labels</th>\n",
       "    </tr>\n",
       "  </thead>\n",
       "  <tbody>\n",
       "    <tr>\n",
       "      <th>16614</th>\n",
       "      <td>Schwarzwaldmilch Bio lactosefreie H-Milch 3,5%...</td>\n",
       "      <td>[Bio, Vegetarian, Vegan]</td>\n",
       "    </tr>\n",
       "    <tr>\n",
       "      <th>17426</th>\n",
       "      <td>Schwarzwaldmilch Bio lactosefreie H-Milch 1,5%...</td>\n",
       "      <td>[Bio, Vegetarian, Vegan]</td>\n",
       "    </tr>\n",
       "    <tr>\n",
       "      <th>18338</th>\n",
       "      <td>Aptamil Anti-Reflux Komplettnahrung 800 g, 4er...</td>\n",
       "      <td>[Bio, Vegetarian, Vegan]</td>\n",
       "    </tr>\n",
       "    <tr>\n",
       "      <th>3786</th>\n",
       "      <td>Haferdrink-Cappuccino</td>\n",
       "      <td>[Bio, Vegan]</td>\n",
       "    </tr>\n",
       "    <tr>\n",
       "      <th>18184</th>\n",
       "      <td>Aptamil Anfangsmilch Pre 800 g, 6er Pack</td>\n",
       "      <td>[Bio, Vegetarian, Vegan]</td>\n",
       "    </tr>\n",
       "  </tbody>\n",
       "</table>\n",
       "</div>"
      ],
      "text/plain": [
       "                                                    name  \\\n",
       "16614  Schwarzwaldmilch Bio lactosefreie H-Milch 3,5%...   \n",
       "17426  Schwarzwaldmilch Bio lactosefreie H-Milch 1,5%...   \n",
       "18338  Aptamil Anti-Reflux Komplettnahrung 800 g, 4er...   \n",
       "3786                               Haferdrink-Cappuccino   \n",
       "18184           Aptamil Anfangsmilch Pre 800 g, 6er Pack   \n",
       "\n",
       "                         labels  \n",
       "16614  [Bio, Vegetarian, Vegan]  \n",
       "17426  [Bio, Vegetarian, Vegan]  \n",
       "18338  [Bio, Vegetarian, Vegan]  \n",
       "3786               [Bio, Vegan]  \n",
       "18184  [Bio, Vegetarian, Vegan]  "
      ]
     },
     "execution_count": 87,
     "metadata": {},
     "output_type": "execute_result"
    }
   ],
   "source": [
    "most_relevant_columns = ['organic_label', 'vegan_label']\n",
    "search_query = \"biyo süt\"\n",
    "\n",
    "Best_results, running_time = SearchInputQuery(search_query, 50, index, 5, most_relevant_columns)\n",
    "\n",
    "print(f\"Execution time: {running_time*1e3} milli-seconds\")\n",
    "print (f\"Search Query: {search_query} \\n\")\n",
    "Best_results[['name','labels']]\n"
   ]
  },
  {
   "cell_type": "code",
   "execution_count": 92,
   "id": "9de637eb-e965-4d8b-a43d-03aaff514de9",
   "metadata": {},
   "outputs": [
    {
     "name": "stdout",
     "output_type": "stream",
     "text": [
      "Execution time: 28.512239456176758 milli-seconds\n",
      "Search Query: maggi noodles \n",
      "\n"
     ]
    },
    {
     "data": {
      "text/html": [
       "<div>\n",
       "<style scoped>\n",
       "    .dataframe tbody tr th:only-of-type {\n",
       "        vertical-align: middle;\n",
       "    }\n",
       "\n",
       "    .dataframe tbody tr th {\n",
       "        vertical-align: top;\n",
       "    }\n",
       "\n",
       "    .dataframe thead th {\n",
       "        text-align: right;\n",
       "    }\n",
       "</style>\n",
       "<table border=\"1\" class=\"dataframe\">\n",
       "  <thead>\n",
       "    <tr style=\"text-align: right;\">\n",
       "      <th></th>\n",
       "      <th>name</th>\n",
       "      <th>labels</th>\n",
       "    </tr>\n",
       "  </thead>\n",
       "  <tbody>\n",
       "    <tr>\n",
       "      <th>6235</th>\n",
       "      <td>Alnatura Bio Gemüse Bouillon 6x 11G</td>\n",
       "      <td>[Bio, Glutenfree, Vegan, Palmoel]</td>\n",
       "    </tr>\n",
       "    <tr>\n",
       "      <th>3915</th>\n",
       "      <td>Rote-Linsen-Burger vegan (gekühlt)</td>\n",
       "      <td>[Bio, Vegetarian, Vegan]</td>\n",
       "    </tr>\n",
       "    <tr>\n",
       "      <th>19749</th>\n",
       "      <td>Vegane Streichwurst</td>\n",
       "      <td>[Bio, Vegan]</td>\n",
       "    </tr>\n",
       "    <tr>\n",
       "      <th>20364</th>\n",
       "      <td>Bio Azuki-Soja Asian Spices Tasty Meal</td>\n",
       "      <td>[Bio]</td>\n",
       "    </tr>\n",
       "    <tr>\n",
       "      <th>19803</th>\n",
       "      <td>Bio Mungo-Edamame Thai Spices Tasty Meal</td>\n",
       "      <td>[Bio, Glutenfree]</td>\n",
       "    </tr>\n",
       "  </tbody>\n",
       "</table>\n",
       "</div>"
      ],
      "text/plain": [
       "                                           name  \\\n",
       "6235        Alnatura Bio Gemüse Bouillon 6x 11G   \n",
       "3915         Rote-Linsen-Burger vegan (gekühlt)   \n",
       "19749                       Vegane Streichwurst   \n",
       "20364    Bio Azuki-Soja Asian Spices Tasty Meal   \n",
       "19803  Bio Mungo-Edamame Thai Spices Tasty Meal   \n",
       "\n",
       "                                  labels  \n",
       "6235   [Bio, Glutenfree, Vegan, Palmoel]  \n",
       "3915            [Bio, Vegetarian, Vegan]  \n",
       "19749                       [Bio, Vegan]  \n",
       "20364                              [Bio]  \n",
       "19803                  [Bio, Glutenfree]  "
      ]
     },
     "execution_count": 92,
     "metadata": {},
     "output_type": "execute_result"
    }
   ],
   "source": [
    "most_relevant_columns = ['organic_label', 'vegan_label']\n",
    "search_query = \"maggi noodles\"\n",
    "\n",
    "Best_results, running_time = SearchInputQuery(search_query, 50, index, 5, most_relevant_columns)\n",
    "\n",
    "print(f\"Execution time: {running_time*1e3} milli-seconds\")\n",
    "print (f\"Search Query: {search_query} \\n\")\n",
    "Best_results[['name','labels']]\n"
   ]
  },
  {
   "cell_type": "code",
   "execution_count": 81,
   "id": "429c72bd-1a1e-4dd6-b4b0-9777bbb92255",
   "metadata": {},
   "outputs": [
    {
     "name": "stdout",
     "output_type": "stream",
     "text": [
      "Execution time: 23.720502853393555 milli-seconds\n",
      "Search Query: beef meat \n",
      "\n"
     ]
    },
    {
     "data": {
      "text/html": [
       "<div>\n",
       "<style scoped>\n",
       "    .dataframe tbody tr th:only-of-type {\n",
       "        vertical-align: middle;\n",
       "    }\n",
       "\n",
       "    .dataframe tbody tr th {\n",
       "        vertical-align: top;\n",
       "    }\n",
       "\n",
       "    .dataframe thead th {\n",
       "        text-align: right;\n",
       "    }\n",
       "</style>\n",
       "<table border=\"1\" class=\"dataframe\">\n",
       "  <thead>\n",
       "    <tr style=\"text-align: right;\">\n",
       "      <th></th>\n",
       "      <th>name</th>\n",
       "      <th>labels</th>\n",
       "      <th>price</th>\n",
       "    </tr>\n",
       "  </thead>\n",
       "  <tbody>\n",
       "    <tr>\n",
       "      <th>20925</th>\n",
       "      <td>Salami Snack</td>\n",
       "      <td>[Bio, Non-Vegetarian]</td>\n",
       "      <td>0.89</td>\n",
       "    </tr>\n",
       "    <tr>\n",
       "      <th>20538</th>\n",
       "      <td>Bio Salami Snack</td>\n",
       "      <td>[Bio, Non-Vegetarian]</td>\n",
       "      <td>0.99</td>\n",
       "    </tr>\n",
       "    <tr>\n",
       "      <th>20352</th>\n",
       "      <td>Bio Rinder Salami Snack</td>\n",
       "      <td>[Bio, Non-Vegetarian]</td>\n",
       "      <td>1.19</td>\n",
       "    </tr>\n",
       "    <tr>\n",
       "      <th>186</th>\n",
       "      <td>Schweinehackfleisch</td>\n",
       "      <td>[Non-Vegetarian]</td>\n",
       "      <td>2.99</td>\n",
       "    </tr>\n",
       "    <tr>\n",
       "      <th>215</th>\n",
       "      <td>Dicke Sauerländer Bockwurst</td>\n",
       "      <td>[Non-Vegetarian]</td>\n",
       "      <td>4.79</td>\n",
       "    </tr>\n",
       "  </tbody>\n",
       "</table>\n",
       "</div>"
      ],
      "text/plain": [
       "                              name                 labels price\n",
       "20925                 Salami Snack  [Bio, Non-Vegetarian]  0.89\n",
       "20538             Bio Salami Snack  [Bio, Non-Vegetarian]  0.99\n",
       "20352      Bio Rinder Salami Snack  [Bio, Non-Vegetarian]  1.19\n",
       "186            Schweinehackfleisch       [Non-Vegetarian]  2.99\n",
       "215    Dicke Sauerländer Bockwurst       [Non-Vegetarian]  4.79"
      ]
     },
     "execution_count": 81,
     "metadata": {},
     "output_type": "execute_result"
    }
   ],
   "source": [
    "most_relevant_columns = ['price']\n",
    "search_query = \"beef meat\"\n",
    "\n",
    "Best_results, running_time = SearchInputQuery(search_query, 50, index, 5, most_relevant_columns)\n",
    "\n",
    "print(f\"Execution time: {running_time*1e3} milli-seconds\")\n",
    "print (f\"Search Query: {search_query} \\n\")\n",
    "Best_results[['name','labels', 'price']]\n"
   ]
  },
  {
   "cell_type": "code",
   "execution_count": null,
   "id": "442f2937-b767-47fd-8180-316ad663ac37",
   "metadata": {},
   "outputs": [],
   "source": []
  }
 ],
 "metadata": {
  "kernelspec": {
   "display_name": "Python 3 (ipykernel)",
   "language": "python",
   "name": "python3"
  },
  "language_info": {
   "codemirror_mode": {
    "name": "ipython",
    "version": 3
   },
   "file_extension": ".py",
   "mimetype": "text/x-python",
   "name": "python",
   "nbconvert_exporter": "python",
   "pygments_lexer": "ipython3",
   "version": "3.11.4"
  }
 },
 "nbformat": 4,
 "nbformat_minor": 5
}
